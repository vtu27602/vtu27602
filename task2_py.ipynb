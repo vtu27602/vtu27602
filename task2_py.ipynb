https://github.com/vtu27602/vtu27602/blob/main/task1.b_py.ipynb
